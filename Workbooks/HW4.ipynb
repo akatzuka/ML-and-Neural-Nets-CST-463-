{
 "cells": [
  {
   "cell_type": "markdown",
   "metadata": {},
   "source": [
    "## Simple linear regression via gradient descent\n",
    "### Dr. Bruns"
   ]
  },
  {
   "cell_type": "code",
   "execution_count": 90,
   "metadata": {
    "collapsed": true
   },
   "outputs": [],
   "source": [
    "import numpy as np\n",
    "import numpy.linalg as LA\n",
    "from sklearn.datasets import load_boston\n",
    "import matplotlib.pyplot as plt\n",
    "import matplotlib.cm as cm\n",
    "%matplotlib inline"
   ]
  },
  {
   "cell_type": "markdown",
   "metadata": {},
   "source": [
    "### Define functions used for performing gradient descent"
   ]
  },
  {
   "cell_type": "markdown",
   "metadata": {},
   "source": [
    "function gradient(f,x)"
   ]
  },
  {
   "cell_type": "code",
   "execution_count": 91,
   "metadata": {
    "collapsed": true
   },
   "outputs": [],
   "source": [
    "# return the gradient of function f at input vector x (x must be iterable)\n",
    "def gradient(f, x, epsilon=0.01):\n",
    "  part = []\n",
    "  for i in range(x):\n",
    "      xi = x.copy()\n",
    "      xi[i] = x[i] + epsilon\n",
    "      part.append((f(*xi) - f(*x))/ epsilon)\n",
    "  return (np.array(part))"
   ]
  },
  {
   "cell_type": "markdown",
   "metadata": {},
   "source": [
    "function find_min(f, n, alpha, max_iterations, min_change)"
   ]
  },
  {
   "cell_type": "code",
   "execution_count": 92,
   "metadata": {
    "collapsed": true
   },
   "outputs": [],
   "source": [
    "# return the vector x such that multi-variate function f(x) is minimized \n",
    "# n - length of input vector to f\n",
    "# alpha - learning rate\n",
    "# max_iterations and min_change are stopping conditions:\n",
    "#   max_iterations - return if max_iterations performed\n",
    "#   min_change - return if change to x is less than min_change\n",
    "def find_min(f, n, alpha=0.01, max_iterations=10000, min_change=0.0001):\n",
    "    theta = np.random.randn(2,1) # random initialization\n",
    "    for iteration in range(max_iterations):\n",
    "        gradients = gradient(f, n)\n",
    "        theta = theta - alpha * gradients\n",
    "    return(theta)"
   ]
  },
  {
   "cell_type": "markdown",
   "metadata": {},
   "source": [
    "function mse_cost(b0, b1, X, y)"
   ]
  },
  {
   "cell_type": "code",
   "execution_count": 93,
   "metadata": {
    "collapsed": true
   },
   "outputs": [],
   "source": [
    "# compute MSE for simple linear regression problem\n",
    "# X is an augmented feature matrix of two columns, y is an array of numeric labels\n",
    "def mse_cost(b0, b1, X, y):\n",
    "    MSE = 0\n",
    "    m = y.shape[0]\n",
    "    for i in range(m):\n",
    "        y_prediction = b0 + b1 *(X[i][1])\n",
    "        MSE += (y[i] - y_prediction) ** 2 \n",
    "    return(MSE / m) "
   ]
  },
  {
   "cell_type": "markdown",
   "metadata": {},
   "source": [
    "### Load and preprocess the 1978 Boston housing data"
   ]
  },
  {
   "cell_type": "code",
   "execution_count": 94,
   "metadata": {
    "collapsed": true
   },
   "outputs": [],
   "source": [
    "dat = load_boston()\n",
    "    \n",
    "X = dat['data'][:,5:6]   # average number of rooms (this gives a matrix, not an array)\n",
    "y = dat['target']        # house price (thousands of dollars)\n",
    "dat['feature_names']\n",
    "\n",
    "# remove data where the house price is exactly the max value\n",
    "# of 50.0; this is a result of censoring.\n",
    "not_max_rows = (y != 50.0)\n",
    "y = y[not_max_rows]\n",
    "X = X[not_max_rows]\n",
    "n,m = X.shape"
   ]
  },
  {
   "cell_type": "markdown",
   "metadata": {},
   "source": [
    "The augmented matrix of training data, with 1's in the first column."
   ]
  },
  {
   "cell_type": "code",
   "execution_count": 95,
   "metadata": {
    "collapsed": true
   },
   "outputs": [],
   "source": [
    "X0 = np.ones((n,1))\n",
    "X_aug = np.hstack((X0, X))"
   ]
  },
  {
   "cell_type": "markdown",
   "metadata": {},
   "source": [
    "We will be trying to predict house price by the number of rooms in the house."
   ]
  },
  {
   "cell_type": "code",
   "execution_count": 96,
   "metadata": {},
   "outputs": [
    {
     "data": {
      "image/png": "[encoded data removed]",
      "text/plain": [
       "<matplotlib.figure.Figure at 0xb247208>"
      ]
     },
     "metadata": {},
     "output_type": "display_data"
    }
   ],
   "source": [
    "plt.scatter(X, y)\n",
    "plt.xlabel('Number of rooms')\n",
    "plt.ylabel('House prices (10K $)')\n",
    "plt.title('House price by number of rooms');"
   ]
  },
  {
   "cell_type": "markdown",
   "metadata": {},
   "source": [
    "### Compute the coeffient values with minimal MSE using the normal equation"
   ]
  },
  {
   "cell_type": "code",
   "execution_count": 97,
   "metadata": {
    "collapsed": true
   },
   "outputs": [],
   "source": [
    "beta_normal = LA.inv(X_aug.T.dot(X_aug)).dot(X_aug.T.dot(y))\n",
    "beta_normal = beta_normal.reshape(-1, beta_normal.shape[0])  # -> 1x2 matrix"
   ]
  },
  {
   "cell_type": "markdown",
   "metadata": {},
   "source": [
    "### Compute the coeffient values with minimal MSE using gradient descent"
   ]
  },
  {
   "cell_type": "markdown",
   "metadata": {},
   "source": [
    "A simplified version of the mse_cost function that does not expose the training data as parameters."
   ]
  },
  {
   "cell_type": "code",
   "execution_count": 98,
   "metadata": {},
   "outputs": [
    {
     "name": "stdout",
     "output_type": "stream",
     "text": [
      "35.46 68.89\n"
     ]
    }
   ],
   "source": [
    "def f_mse(b0,b1):\n",
    "    return(mse_cost(b0, b1, X_aug, y))\n",
    "\n",
    "# compute MSE for a couple of choices for b0, b1\n",
    "print(np.round(f_mse(-30, 8),2), np.round(f_mse(-10, 6),2))"
   ]
  },
  {
   "cell_type": "markdown",
   "metadata": {},
   "source": [
    "The following plot shows the mean squared error (MSE) for many values of the linear coefficients $\\theta_0$, $\\theta_1$, using the Boston housing data.  Red values are high numbers, blue values are low numbers."
   ]
  },
  {
   "cell_type": "code",
   "execution_count": 99,
   "metadata": {
    "scrolled": true
   },
   "outputs": [
    {
     "data": {
      "image/png": "[encoded data removed]",
      "text/plain": [
       "<matplotlib.figure.Figure at 0xb2334e0>"
      ]
     },
     "metadata": {},
     "output_type": "display_data"
    }
   ],
   "source": [
    "B0 = np.arange(-100, 100, 10)\n",
    "B1 = np.arange(-10, 10, 2)\n",
    "B0, B1 = np.meshgrid(B0, B1)\n",
    "\n",
    "# see stackoverflow.com/questions/9170838/surface-plots-in-matplotlib\n",
    "zs = np.array([f_mse(b0,b1) for b0,b1 in zip(np.ravel(B0), np.ravel(B1))])\n",
    "Z = zs.reshape(B0.shape)\n",
    "    \n",
    "cmap = cm.get_cmap('bwr')   # red value is high, dark blue is low\n",
    "plt.contourf(B0, B1, Z, 30, cmap=cmap);      # filled contour map"
   ]
  },
  {
   "cell_type": "markdown",
   "metadata": {},
   "source": [
    "Gradient descent is performed here.  The gradient descent function is very sensitive to the alpha parameter, probably because the surface of MSE values is very flat around the minimum value."
   ]
  },
  {
   "cell_type": "code",
   "execution_count": 100,
   "metadata": {},
   "outputs": [
    {
     "name": "stdout",
     "output_type": "stream",
     "text": [
      "stopped on max iterations\n"
     ]
    }
   ],
   "source": [
    "beta_gd = find_min(f_mse, 2, alpha=0.01, max_iterations=10000, min_change=0.0001)\n",
    "beta_gd = beta_gd.reshape(-1, beta_gd.shape[0])  # -> 1x2 matrix"
   ]
  },
  {
   "cell_type": "markdown",
   "metadata": {},
   "source": [
    "### Plot the model obtained by the normal equation (red) and gradient descent (black)."
   ]
  },
  {
   "cell_type": "code",
   "execution_count": 101,
   "metadata": {},
   "outputs": [
    {
     "data": {
      "image/png": "[encoded data removed]",
      "text/plain": [
       "<matplotlib.figure.Figure at 0xb244e10>"
      ]
     },
     "metadata": {},
     "output_type": "display_data"
    }
   ],
   "source": [
    "y_normal = beta_normal.dot(X_aug.T).T\n",
    "y_gd     = beta_gd.dot(X_aug.T).T\n",
    "\n",
    "plt.scatter(X, y)\n",
    "plt.plot(X, y_normal,    color='black', linewidth=2)\n",
    "plt.plot(X, y_gd, color='red', linewidth=2);"
   ]
  },
  {
   "cell_type": "code",
   "execution_count": null,
   "metadata": {
    "collapsed": true
   },
   "outputs": [],
   "source": []
  }
 ],
 "metadata": {
  "kernelspec": {
   "display_name": "Python 3",
   "language": "python",
   "name": "python3"
  },
  "language_info": {
   "codemirror_mode": {
    "name": "ipython",
    "version": 3
   },
   "file_extension": ".py",
   "mimetype": "text/x-python",
   "name": "python",
   "nbconvert_exporter": "python",
   "pygments_lexer": "ipython3",
   "version": "3.6.5"
  }
 },
 "nbformat": 4,
 "nbformat_minor": 2
}
