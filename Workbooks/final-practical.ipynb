{
 "cells": [
  {
   "cell_type": "markdown",
   "metadata": {},
   "source": [
    "# Final: Practical"
   ]
  },
  {
   "cell_type": "markdown",
   "metadata": {},
   "source": [
    "### This practical contains 6 problems, labeled 'Problem 1', 'Problem 2', etc.  Please read the instructions carefully.  I estimated 10 minutes work per problem.   Only edit cells that you are directed to edit."
   ]
  },
  {
   "cell_type": "markdown",
   "metadata": {},
   "source": [
    "### Submission: Please submit your .ipynb file only.  The file you submit must have output that demonstrates your answers.  I recommend restarting and then running all cells before you submit."
   ]
  },
  {
   "cell_type": "markdown",
   "metadata": {},
   "source": [
    "### Grading: Each problem is worth a maximum of 10 points.  Any points above 50 will be treated as extra credit points."
   ]
  },
  {
   "cell_type": "code",
   "execution_count": 1,
   "metadata": {},
   "outputs": [],
   "source": [
    "%matplotlib inline"
   ]
  },
  {
   "cell_type": "markdown",
   "metadata": {},
   "source": [
    "## Part 1.  Machine learning in Python"
   ]
  },
  {
   "cell_type": "markdown",
   "metadata": {},
   "source": [
    "### In this section we'll use the \"census summary\" data set, which contains census information plus a label showing whether the income associated with the individual is > $50,000/year.  (The data is from 1994.)"
   ]
  },
  {
   "cell_type": "code",
   "execution_count": 2,
   "metadata": {},
   "outputs": [],
   "source": [
    "# ADD imports to this cell as needed\n",
    "import numpy as np\n",
    "import pandas as pd\n",
    "import matplotlib.pyplot as plt\n",
    "import seaborn as sns   \n",
    "from sklearn.preprocessing import StandardScaler\n",
    "from sklearn.model_selection import train_test_split\n",
    "from sklearn.decomposition import PCA\n",
    "from sklearn import tree\n",
    "from sklearn.metrics import accuracy_score\n",
    "from sklearn.ensemble import RandomForestClassifier\n",
    "from sklearn.ensemble import VotingClassifier\n",
    "from sklearn.ensemble import GradientBoostingClassifier\n",
    "from sklearn.svm import SVC\n",
    "from sklearn.model_selection import GridSearchCV"
   ]
  },
  {
   "cell_type": "markdown",
   "metadata": {},
   "source": [
    "### Read the data"
   ]
  },
  {
   "cell_type": "code",
   "execution_count": 3,
   "metadata": {},
   "outputs": [],
   "source": [
    "input_file = \"https://raw.githubusercontent.com/grbruns/cst495/master/1994-census-summary.csv\"\n",
    "dat = pd.read_csv(input_file)"
   ]
  },
  {
   "cell_type": "markdown",
   "metadata": {},
   "source": [
    "### Basic preprocessing"
   ]
  },
  {
   "cell_type": "code",
   "execution_count": 4,
   "metadata": {},
   "outputs": [],
   "source": [
    "# remove some columns\n",
    "dat.drop(['usid', 'fnlwgt', 'education', 'native_country'], axis=1, inplace=True)\n",
    "\n",
    "# remove rows containing NaN\n",
    "dat.dropna(inplace=True)"
   ]
  },
  {
   "cell_type": "markdown",
   "metadata": {},
   "source": [
    "### Exploration and visualization"
   ]
  },
  {
   "cell_type": "code",
   "execution_count": 5,
   "metadata": {},
   "outputs": [
    {
     "data": {
      "image/png": "[encoded data removed]",
      "text/plain": [
       "<Figure size 432x288 with 1 Axes>"
      ]
     },
     "metadata": {
      "needs_background": "light"
     },
     "output_type": "display_data"
    }
   ],
   "source": [
    "# tabulate the number of values in each category of the \"occupation\" column, and plot\n",
    "# as a barplot\n",
    "sns.countplot(y=\"occupation\", orient=\"v\", data=dat)\n",
    "plt.title('Occupation counts');"
   ]
  },
  {
   "cell_type": "markdown",
   "metadata": {},
   "source": [
    "### Final preprocessing.   Steps here include creation of dummy variables for categorical variables, creation of new target variable, creation of numeric numpy matrix, and scaling of the data."
   ]
  },
  {
   "cell_type": "code",
   "execution_count": 6,
   "metadata": {},
   "outputs": [],
   "source": [
    "dat = pd.get_dummies(dat, columns=['workclass', 'marital_status', 'occupation', 'relationship', 'race', 'sex', 'label'], drop_first=True)\n",
    "\n",
    "# derive numpy array y from label column, then remove the column\n",
    "y = dat['label_>50K'].values\n",
    "dat.drop(['label_>50K'], axis=1, inplace=True)\n",
    "\n",
    "# create a numpy matrix X from dat1\n",
    "X = dat.values.astype(float)  # converting to float avoids StandardScalar warnings\n",
    "\n",
    "# scale the data\n",
    "scaler = StandardScaler()\n",
    "X_scaled = scaler.fit_transform(X)"
   ]
  },
  {
   "cell_type": "markdown",
   "metadata": {},
   "source": [
    "### Problem 1"
   ]
  },
  {
   "cell_type": "markdown",
   "metadata": {},
   "source": [
    "Create a new matrix X_reduced, which will have only 5 features, and then create a training and test set from X_reduced and y.  You can get the 5 features using feature selection, or by using dimensionality reduction.  You can choose your train/test ratio.\n",
    "\n",
    "I will be looking at the accuracy of your classification result, so think about how to create/select your 5 features."
   ]
  },
  {
   "cell_type": "code",
   "execution_count": 7,
   "metadata": {},
   "outputs": [],
   "source": [
    "pca = PCA(n_components = 5)\n",
    "X_reduced = pca.fit_transform(X_scaled)\n",
    "\n",
    "X_train, X_test, y_train, y_test = train_test_split(X_reduced,\n",
    "y, test_size=0.25)"
   ]
  },
  {
   "cell_type": "markdown",
   "metadata": {},
   "source": [
    "### Problem 2a"
   ]
  },
  {
   "cell_type": "markdown",
   "metadata": {},
   "source": [
    "Your job here is to create a classifier, train it, and then test your accuracy with your test set.  You can choose your predictor, but only use NumPy, Pandas, and Scikit-Learn, and use only a type of predictor we have seen in class.\n",
    "\n",
    "You are also required to use grid search to find good hyperparameter values for your classifier.  Because you are working under time contraints, it will be enough to check 6 or 8 combinations of hyperparameters.\n",
    "\n",
    "Print your accuracy on the test set.  You should be able to achieve 83% accuracy or more."
   ]
  },
  {
   "cell_type": "code",
   "execution_count": 8,
   "metadata": {},
   "outputs": [
    {
     "name": "stdout",
     "output_type": "stream",
     "text": [
      "DecisionTreeClassifier 0.7861979166666667\n",
      "RandomForestClassifier 0.8244791666666667\n",
      "SVC 0.8305989583333333\n",
      "GradientBoostingClassifier 0.8235677083333334\n",
      "VotingClassifier 0.8287760416666666\n",
      "GridSearchCV 0.8313802083333334\n"
     ]
    }
   ],
   "source": [
    "rnd_clf = RandomForestClassifier(n_estimators = 60, n_jobs = -1)\n",
    "rnd_clf_fitted = rnd_clf.fit(X_train, y_train)\n",
    "RFC_score = rnd_clf.score(X_test, y_test)\n",
    "\n",
    "clf = tree.DecisionTreeClassifier()\n",
    "clf.fit(X_train, y_train)\n",
    "y_predict = clf.predict(X_test)\n",
    "\n",
    "svm_clf = SVC(gamma=\"scale\")\n",
    "g_clf = GradientBoostingClassifier(n_estimators = 5, learning_rate = 1.0)\n",
    "voting_clf = VotingClassifier(\n",
    "estimators=[('clf', clf), ('rf', rnd_clf), ('svc', svm_clf), ('gboost', g_clf)],\n",
    "voting='hard')\n",
    "voting_clf.fit(X_train, y_train)\n",
    "\n",
    "for clf1 in (clf, rnd_clf, svm_clf, g_clf, voting_clf):\n",
    "    clf1.fit(X_train, y_train)\n",
    "    y_pred = clf1.predict(X_test)\n",
    "    print(clf1.__class__.__name__, accuracy_score(y_test, y_pred))\n",
    "    \n",
    "parameters = {'C': [10], 'gamma': [0.1], 'kernel': ['rbf']}\n",
    "clf2 = GridSearchCV(svm_clf, parameters, cv=6)\n",
    "clf2.fit(X_train, y_train)\n",
    "y_pred = clf2.predict(X_test)\n",
    "print(clf2.__class__.__name__, accuracy_score(y_test, y_pred))"
   ]
  },
  {
   "cell_type": "markdown",
   "metadata": {},
   "source": [
    "### Problem 2b"
   ]
  },
  {
   "cell_type": "markdown",
   "metadata": {},
   "source": [
    "In the markdown cell below, please write two or three sentences on why you chose the approach that you did in Problem 2a."
   ]
  },
  {
   "cell_type": "markdown",
   "metadata": {},
   "source": [
    "For feature selection, I used PCA to reduce the number of features to 5, as this is simple and tends to be the best method of selecting features.\n",
    "\n",
    "For estimators, I tried using a voting classifier which used a random forest, an SVM, and and decision trees as its inputs. This resulted in accuracy that was very close to 83% across multiple attempts, but could not have it break that 83% barrier. Since I was close to the 83% accuracy mark, I tried to use grid search tuning the hyperparameters of the Support Vector Machine, and this improved my accuracy above the 83% mark.\n",
    "\n",
    "Since I got a result very close to 83% accuracy, I then tried tuning the hyperparameters of gradient boosting.  The problem is that grid search took a long time, so I wasn't able to try many different parameter values.  "
   ]
  },
  {
   "cell_type": "markdown",
   "metadata": {},
   "source": [
    "## Part 2.  Deep Learning with TensorFlow"
   ]
  },
  {
   "cell_type": "markdown",
   "metadata": {},
   "source": [
    "### MNIST classification with a CNN, shared header code.  This must be run before working on any of the CNN cells."
   ]
  },
  {
   "cell_type": "code",
   "execution_count": 1,
   "metadata": {},
   "outputs": [
    {
     "name": "stdout",
     "output_type": "stream",
     "text": [
      "Extracting /tmp/data/train-images-idx3-ubyte.gz\n",
      "Extracting /tmp/data/train-labels-idx1-ubyte.gz\n",
      "Extracting /tmp/data/t10k-images-idx3-ubyte.gz\n",
      "Extracting /tmp/data/t10k-labels-idx1-ubyte.gz\n"
     ]
    }
   ],
   "source": [
    "import tensorflow as tf\n",
    "from tensorflow.examples.tutorials.mnist import input_data\n",
    "\n",
    "# adjust logging verbosity level\n",
    "old_verbosity = tf.logging.get_verbosity()\n",
    "tf.logging.set_verbosity(tf.logging.ERROR)\n",
    "\n",
    "# load data\n",
    "from tensorflow.examples.tutorials.mnist import input_data\n",
    "mnist = input_data.read_data_sets(\"/tmp/data/\")\n",
    "\n",
    "# reset verbosity level\n",
    "tf.logging.set_verbosity(old_verbosity)"
   ]
  },
  {
   "cell_type": "markdown",
   "metadata": {},
   "source": [
    "### MNIST classification with a CNN, base code"
   ]
  },
  {
   "cell_type": "markdown",
   "metadata": {},
   "source": [
    "The code below is a slightly modified version of Geron's MNIST classifier.  It uses two convolutional layers, a pooling layer, and two dense layers.  You should run the code to make sure it works for you. "
   ]
  },
  {
   "cell_type": "code",
   "execution_count": null,
   "metadata": {},
   "outputs": [],
   "source": [
    "#\n",
    "# graph building phase\n",
    "#\n",
    "\n",
    "height = 28\n",
    "width = 28\n",
    "channels = 1\n",
    "n_inputs = height * width\n",
    "\n",
    "conv1_fmaps = 32\n",
    "conv1_ksize = 3\n",
    "conv1_stride = 1\n",
    "conv1_pad = \"SAME\"\n",
    "\n",
    "conv2_fmaps = 64\n",
    "conv2_ksize = 3\n",
    "conv2_stride = 2\n",
    "conv2_pad = \"SAME\"\n",
    "\n",
    "pool3_fmaps = conv2_fmaps\n",
    "\n",
    "n_fc1 = 64\n",
    "n_outputs = 10\n",
    "\n",
    "tf.reset_default_graph()\n",
    "\n",
    "with tf.name_scope(\"inputs\"):\n",
    "    X = tf.placeholder(tf.float32, shape=[None, n_inputs], name=\"X\")\n",
    "    X_reshaped = tf.reshape(X, shape=[-1, height, width, channels])\n",
    "    y = tf.placeholder(tf.int32, shape=[None], name=\"y\")\n",
    "\n",
    "conv1 = tf.layers.conv2d(X_reshaped, filters=conv1_fmaps, kernel_size=conv1_ksize,\n",
    "                         strides=conv1_stride, padding=conv1_pad,\n",
    "                         activation=tf.nn.relu, name=\"conv1\")\n",
    "conv2 = tf.layers.conv2d(conv1, filters=conv2_fmaps, kernel_size=conv2_ksize,\n",
    "                         strides=conv2_stride, padding=conv2_pad,\n",
    "                         activation=tf.nn.relu, name=\"conv2\")\n",
    "\n",
    "with tf.name_scope(\"pool3\"):\n",
    "    pool3 = tf.nn.max_pool(conv2, ksize=[1, 2, 2, 1], strides=[1, 2, 2, 1], padding=\"VALID\")\n",
    "    pool3_flat = tf.reshape(pool3, shape=[-1, pool3_fmaps * 7 * 7])\n",
    "\n",
    "with tf.name_scope(\"fc1\"):\n",
    "    fc1 = tf.layers.dense(pool3_flat, n_fc1, activation=tf.nn.relu, name=\"fc1\")\n",
    "\n",
    "with tf.name_scope(\"output\"):\n",
    "    logits = tf.layers.dense(fc1, n_outputs, name=\"output\")\n",
    "\n",
    "with tf.name_scope(\"train\"):\n",
    "    xentropy = tf.nn.sparse_softmax_cross_entropy_with_logits(logits=logits, labels=y)\n",
    "    loss = tf.reduce_mean(xentropy)\n",
    "    optimizer = tf.train.AdamOptimizer()\n",
    "    training_op = optimizer.minimize(loss)\n",
    "\n",
    "with tf.name_scope(\"eval\"):\n",
    "    correct = tf.nn.in_top_k(logits, y, 1)\n",
    "    accuracy = tf.reduce_mean(tf.cast(correct, tf.float32))\n",
    "\n",
    "with tf.name_scope(\"init_and_save\"):\n",
    "    init = tf.global_variables_initializer()\n",
    "    saver = tf.train.Saver()\n",
    "\n",
    "#\n",
    "# graph execution phase\n",
    "#\n",
    "\n",
    "n_epochs = 5\n",
    "batch_size = 10\n",
    "test_batch_size = 20\n",
    "\n",
    "with tf.Session() as sess:\n",
    "    init.run()\n",
    "    for epoch in range(n_epochs):\n",
    "        # train\n",
    "        for iteration in range(mnist.train.num_examples // batch_size):\n",
    "            X_train, y_train = mnist.train.next_batch(batch_size)\n",
    "            sess.run(training_op, feed_dict={X: X_train, y: y_train})\n",
    "        # loss and training accuracy\n",
    "        loss_val, acc_train = sess.run([loss, accuracy], feed_dict={X: X_train, y: y_train})\n",
    "        # test accuracy\n",
    "        X_test, y_test = mnist.test.next_batch(test_batch_size)\n",
    "        acc_test = accuracy.eval(feed_dict={X: X_test, y: y_test})\n",
    "        \n",
    "        print(epoch, \"loss:\", loss_val, \", train accuracy:\", acc_train, \", test accuracy:\", acc_test)\n",
    "        # save_path = saver.save(sess, \"./my_mnist_model\")"
   ]
  },
  {
   "cell_type": "markdown",
   "metadata": {
    "collapsed": true
   },
   "source": [
    "### Problem 3"
   ]
  },
  {
   "cell_type": "markdown",
   "metadata": {},
   "source": [
    "The code below is a copy of the base code.  Your job is to remove the second convolutional layer, and then make the smallest changes needed to get the CNN working again.  Do not add any new layers."
   ]
  },
  {
   "cell_type": "code",
   "execution_count": null,
   "metadata": {},
   "outputs": [],
   "source": [
    "#\n",
    "# graph building phase\n",
    "#\n",
    "\n",
    "height = 28\n",
    "width = 28\n",
    "channels = 1\n",
    "n_inputs = height * width\n",
    "\n",
    "conv1_fmaps = 64\n",
    "conv1_ksize = 3\n",
    "conv1_stride = 2\n",
    "conv1_pad = \"SAME\"\n",
    "\n",
    "#conv2_fmaps = 64\n",
    "#conv2_ksize = 3\n",
    "#conv2_stride = 2\n",
    "#conv2_pad = \"SAME\"\n",
    "\n",
    "#pool3_fmaps = conv2_fmaps\n",
    "pool3_fmaps = conv1_fmaps\n",
    "\n",
    "n_fc1 = 64\n",
    "n_outputs = 10\n",
    "\n",
    "tf.reset_default_graph()\n",
    "\n",
    "with tf.name_scope(\"inputs\"):\n",
    "    X = tf.placeholder(tf.float32, shape=[None, n_inputs], name=\"X\")\n",
    "    X_reshaped = tf.reshape(X, shape=[-1, height, width, channels])\n",
    "    y = tf.placeholder(tf.int32, shape=[None], name=\"y\")\n",
    "\n",
    "conv1 = tf.layers.conv2d(X_reshaped, filters=conv1_fmaps, kernel_size=conv1_ksize,\n",
    "                         strides=conv1_stride, padding=conv1_pad,\n",
    "                         activation=tf.nn.relu, name=\"conv1\")\n",
    "#conv2 = tf.layers.conv2d(conv1, filters=conv2_fmaps, kernel_size=conv2_ksize,\n",
    "#                         strides=conv2_stride, padding=conv2_pad,\n",
    "#                         activation=tf.nn.relu, name=\"conv2\")\n",
    "\n",
    "with tf.name_scope(\"pool3\"):\n",
    "    pool3 = tf.nn.max_pool(conv1, ksize=[1, 2, 2, 1], strides=[1, 2, 2, 1], padding=\"VALID\")\n",
    "    pool3_flat = tf.reshape(pool3, shape=[-1, pool3_fmaps * 7 * 7])\n",
    "\n",
    "with tf.name_scope(\"fc1\"):\n",
    "    fc1 = tf.layers.dense(pool3_flat, n_fc1, activation=tf.nn.relu, name=\"fc1\")\n",
    "\n",
    "with tf.name_scope(\"output\"):\n",
    "    logits = tf.layers.dense(fc1, n_outputs, name=\"output\")\n",
    "\n",
    "with tf.name_scope(\"train\"):\n",
    "    xentropy = tf.nn.sparse_softmax_cross_entropy_with_logits(logits=logits, labels=y)\n",
    "    loss = tf.reduce_mean(xentropy)\n",
    "    optimizer = tf.train.AdamOptimizer()\n",
    "    training_op = optimizer.minimize(loss)\n",
    "\n",
    "with tf.name_scope(\"eval\"):\n",
    "    correct = tf.nn.in_top_k(logits, y, 1)\n",
    "    accuracy = tf.reduce_mean(tf.cast(correct, tf.float32))\n",
    "\n",
    "with tf.name_scope(\"init_and_save\"):\n",
    "    init = tf.global_variables_initializer()\n",
    "    saver = tf.train.Saver()\n",
    "\n",
    "#\n",
    "# graph execution phase\n",
    "#\n",
    "\n",
    "n_epochs = 5\n",
    "batch_size = 10\n",
    "test_batch_size = 20\n",
    "\n",
    "with tf.Session() as sess:\n",
    "    init.run()\n",
    "    for epoch in range(n_epochs):\n",
    "        # train\n",
    "        for iteration in range(mnist.train.num_examples // batch_size):\n",
    "            X_train, y_train = mnist.train.next_batch(batch_size)\n",
    "            sess.run(training_op, feed_dict={X: X_train, y: y_train})\n",
    "        # loss and training accuracy\n",
    "        loss_val, acc_train = sess.run([loss, accuracy], feed_dict={X: X_train, y: y_train})\n",
    "        # test accuracy\n",
    "        X_test, y_test = mnist.test.next_batch(test_batch_size)\n",
    "        acc_test = accuracy.eval(feed_dict={X: X_test, y: y_test})\n",
    "        \n",
    "        print(epoch, \"loss:\", loss_val, \", train accuracy:\", acc_train, \", test accuracy:\", acc_test)\n",
    "        # save_path = saver.save(sess, \"./my_mnist_model\")"
   ]
  },
  {
   "cell_type": "markdown",
   "metadata": {
    "collapsed": true
   },
   "source": [
    "### Problem 4"
   ]
  },
  {
   "cell_type": "markdown",
   "metadata": {},
   "source": [
    "The code below is like the base code, except that two new nodes have been introduced: 'probs' and 'y_hot'.  Your job is to change the right hand side of the line 'xentropy = ...', and to replace the TensorFlow function on the right with a different TensorFlow function.  The arguments provided to the new function should include either 'prob' or 'y_hot' or both."
   ]
  },
  {
   "cell_type": "code",
   "execution_count": null,
   "metadata": {},
   "outputs": [],
   "source": [
    "#\n",
    "# graph building phase\n",
    "#\n",
    "\n",
    "height = 28\n",
    "width = 28\n",
    "channels = 1\n",
    "n_inputs = height * width\n",
    "\n",
    "conv1_fmaps = 32\n",
    "conv1_ksize = 3\n",
    "conv1_stride = 1\n",
    "conv1_pad = \"SAME\"\n",
    "\n",
    "conv2_fmaps = 64\n",
    "conv2_ksize = 3\n",
    "conv2_stride = 2\n",
    "conv2_pad = \"SAME\"\n",
    "\n",
    "pool3_fmaps = conv2_fmaps\n",
    "\n",
    "n_fc1 = 64\n",
    "n_outputs = 10\n",
    "\n",
    "tf.reset_default_graph()\n",
    "\n",
    "with tf.name_scope(\"inputs\"):\n",
    "    X = tf.placeholder(tf.float32, shape=[None, n_inputs], name=\"X\")\n",
    "    X_reshaped = tf.reshape(X, shape=[-1, height, width, channels])\n",
    "    y = tf.placeholder(tf.int32, shape=[None], name=\"y\")\n",
    "    y_hot = tf.one_hot(y, n_outputs)\n",
    "\n",
    "conv1 = tf.layers.conv2d(X_reshaped, filters=conv1_fmaps, kernel_size=conv1_ksize,\n",
    "                         strides=conv1_stride, padding=conv1_pad,\n",
    "                         activation=tf.nn.relu, name=\"conv1\")\n",
    "conv2 = tf.layers.conv2d(conv1, filters=conv2_fmaps, kernel_size=conv2_ksize,\n",
    "                         strides=conv2_stride, padding=conv2_pad,\n",
    "                         activation=tf.nn.relu, name=\"conv2\")\n",
    "\n",
    "with tf.name_scope(\"pool3\"):\n",
    "    pool3 = tf.nn.max_pool(conv2, ksize=[1, 2, 2, 1], strides=[1, 2, 2, 1], padding=\"VALID\")\n",
    "    pool3_flat = tf.reshape(pool3, shape=[-1, pool3_fmaps * 7 * 7])\n",
    "\n",
    "with tf.name_scope(\"fc1\"):\n",
    "    fc1 = tf.layers.dense(pool3_flat, n_fc1, activation=tf.nn.relu, name=\"fc1\")\n",
    "\n",
    "with tf.name_scope(\"output\"):\n",
    "    logits = tf.layers.dense(fc1, n_outputs, name=\"output\")\n",
    "    probs = tf.nn.softmax(logits, name=\"probs\")\n",
    "\n",
    "with tf.name_scope(\"train\"):\n",
    "    xentropy = tf.nn.softmax_cross_entropy_with_logits_v2(logits=logits, labels=y_hot) \n",
    "    loss = tf.reduce_mean(xentropy)\n",
    "    optimizer = tf.train.AdamOptimizer()\n",
    "    training_op = optimizer.minimize(loss)\n",
    "\n",
    "with tf.name_scope(\"eval\"):\n",
    "    correct = tf.nn.in_top_k(logits, y, 1)\n",
    "    accuracy = tf.reduce_mean(tf.cast(correct, tf.float32))\n",
    "\n",
    "with tf.name_scope(\"init_and_save\"):\n",
    "    init = tf.global_variables_initializer()\n",
    "    saver = tf.train.Saver()\n",
    "\n",
    "#\n",
    "# graph execution phase\n",
    "#\n",
    "\n",
    "n_epochs = 5\n",
    "batch_size = 50\n",
    "test_batch_size = 100\n",
    "\n",
    "with tf.Session() as sess:\n",
    "    init.run()\n",
    "    for epoch in range(n_epochs):\n",
    "        # train\n",
    "        for iteration in range(mnist.train.num_examples // batch_size):\n",
    "            X_train, y_train = mnist.train.next_batch(batch_size)\n",
    "            sess.run(training_op, feed_dict={X: X_train, y: y_train})\n",
    "        # loss and training accuracy\n",
    "        loss_val, acc_train = sess.run([loss, accuracy], feed_dict={X: X_train, y: y_train})\n",
    "        # test accuracy\n",
    "        X_test, y_test = mnist.test.next_batch(test_batch_size)\n",
    "        acc_test = accuracy.eval(feed_dict={X: X_test, y: y_test})\n",
    "        \n",
    "        print(epoch, \"loss:\", loss_val, \", train accuracy:\", acc_train, \", test accuracy:\", acc_test)\n",
    "        # save_path = saver.save(sess, \"./my_mnist_model\")"
   ]
  },
  {
   "cell_type": "markdown",
   "metadata": {},
   "source": [
    "### Character-level text modeling with an RNN, shared header code.  This code must be run before working on any of the RNN cells."
   ]
  },
  {
   "cell_type": "markdown",
   "metadata": {},
   "source": [
    " If you don't have the Alice.txt file handy, you can get from our class GoogleDrive: https://drive.google.com/open?id=1phSka_OrfrKDajE-0Vyk_AyT4KFb-YdC "
   ]
  },
  {
   "cell_type": "code",
   "execution_count": 1,
   "metadata": {},
   "outputs": [
    {
     "ename": "FileNotFoundError",
     "evalue": "[Errno 2] No such file or directory: 'C:/Users/Glenn/Google Drive/CSUMB/Spring18/DS/homework/week6/alice.txt'",
     "output_type": "error",
     "traceback": [
      "\u001b[1;31m---------------------------------------------------------------------------\u001b[0m",
      "\u001b[1;31mFileNotFoundError\u001b[0m                         Traceback (most recent call last)",
      "\u001b[1;32m<ipython-input-1-78c35d6a2098>\u001b[0m in \u001b[0;36m<module>\u001b[1;34m\u001b[0m\n\u001b[0;32m      3\u001b[0m \u001b[1;33m\u001b[0m\u001b[0m\n\u001b[0;32m      4\u001b[0m \u001b[1;31m# replace the file path here with your own\u001b[0m\u001b[1;33m\u001b[0m\u001b[1;33m\u001b[0m\u001b[1;33m\u001b[0m\u001b[0m\n\u001b[1;32m----> 5\u001b[1;33m \u001b[0mdata\u001b[0m \u001b[1;33m=\u001b[0m \u001b[1;33m(\u001b[0m\u001b[0mopen\u001b[0m\u001b[1;33m(\u001b[0m\u001b[1;34m\"C:/Users/Glenn/Google Drive/CSUMB/Spring18/DS/homework/week6/alice.txt\"\u001b[0m\u001b[1;33m)\u001b[0m\u001b[1;33m.\u001b[0m\u001b[0mread\u001b[0m\u001b[1;33m(\u001b[0m\u001b[1;33m)\u001b[0m\u001b[1;33m)\u001b[0m\u001b[1;33m\u001b[0m\u001b[1;33m\u001b[0m\u001b[0m\n\u001b[0m\u001b[0;32m      6\u001b[0m \u001b[1;33m\u001b[0m\u001b[0m\n\u001b[0;32m      7\u001b[0m \u001b[1;31m# create mapping from characters to numbers and back\u001b[0m\u001b[1;33m\u001b[0m\u001b[1;33m\u001b[0m\u001b[1;33m\u001b[0m\u001b[0m\n",
      "\u001b[1;31mFileNotFoundError\u001b[0m: [Errno 2] No such file or directory: 'C:/Users/Glenn/Google Drive/CSUMB/Spring18/DS/homework/week6/alice.txt'"
     ]
    }
   ],
   "source": [
    "import numpy as np\n",
    "import tensorflow as tf\n",
    "\n",
    "# replace the file path here with your own\n",
    "data = (open(\"C:/Users/Glenn/Google Drive/CSUMB/Spring18/DS/homework/week6/alice.txt\").read())\n",
    "\n",
    "# create mapping from characters to numbers and back\n",
    "chars = list(set(data))\n",
    "data_size, vocab_size = len(data), len(chars)\n",
    "char_to_ix = { ch:i for i,ch in enumerate(chars) }   # dict comprehension\n",
    "ix_to_char = { i:ch for i,ch in enumerate(chars) }"
   ]
  },
  {
   "cell_type": "markdown",
   "metadata": {},
   "source": [
    "### Character-level text modeling with an RNN, base code"
   ]
  },
  {
   "cell_type": "markdown",
   "metadata": {},
   "source": [
    "The code below is a simple TensorFlow version of Karpathy's character-level text model.  Make sure you can run the code."
   ]
  },
  {
   "cell_type": "code",
   "execution_count": null,
   "metadata": {},
   "outputs": [],
   "source": [
    "# create training sequences, and corresponding labels\n",
    "X = []\n",
    "y = []\n",
    "seq_length = 50\n",
    "for i in range(0, len(data)-seq_length-1, 1):\n",
    "    X.append([char_to_ix[ch] for ch in data[i:i+seq_length]])\n",
    "    y.append([char_to_ix[ch] for ch in data[i+1:i+seq_length+1]])\n",
    "\n",
    "# reshape the data; in X_modified, each row is an encoded \n",
    "# sequence of characters\n",
    "X_modified = np.reshape(X, (len(X), seq_length))\n",
    "y_modified = np.reshape(y, (len(y), seq_length))\n",
    "\n",
    "#\n",
    "# graph construction\n",
    "#\n",
    "\n",
    "n_steps = seq_length\n",
    "n_inputs = vocab_size\n",
    "n_outputs = vocab_size\n",
    "n_neurons = 100\n",
    "\n",
    "learning_rate = 0.001\n",
    "\n",
    "tf.reset_default_graph()\n",
    "\n",
    "X = tf.placeholder(tf.int32, [None, n_steps])\n",
    "X_hot = tf.one_hot(X, n_inputs)\n",
    "y = tf.placeholder(tf.int32, [None, n_steps])\n",
    "\n",
    "# alternative: GPU-enabled GRU cell\n",
    "#        tf.contrib.cudnn_rnn.CudnnCompatibleGRUCell(num_units=n_neurons),\n",
    "\n",
    "basic_cell = tf.contrib.rnn.OutputProjectionWrapper(\n",
    "              tf.nn.rnn_cell.BasicRNNCell(num_units=n_neurons),\n",
    "              output_size=n_outputs)\n",
    "logits, states = tf.nn.dynamic_rnn(basic_cell, X_hot, dtype=tf.float32)\n",
    "xentropy = tf.nn.sparse_softmax_cross_entropy_with_logits(labels=y, logits=logits)\n",
    "loss = tf.reduce_mean(xentropy)\n",
    "optimizer = tf.train.AdamOptimizer(learning_rate=learning_rate)\n",
    "training_op = optimizer.minimize(loss)\n",
    "\n",
    "# Get the last character of the first batch, then convert it\n",
    "# to a probability vector.\n",
    "last_char_matrix = tf.slice(logits, [0,n_steps-1,0], [1,1,vocab_size])\n",
    "last_char_vector = tf.reshape(last_char_matrix, [vocab_size])\n",
    "probs = tf.nn.softmax(last_char_vector)\n",
    "\n",
    "init = tf.global_variables_initializer()\n",
    "\n",
    "#\n",
    "# graph execution\n",
    "#\n",
    "\n",
    "n_epochs = 10\n",
    "batch_size = 50     # sequences per batch\n",
    "n_batches = 50     # batches per epoch\n",
    "sample_size = 200   # length of generated text at end of each epoch\n",
    "\n",
    "def fetch_batch(epoch, batch_index, batch_size, X_dat, y_dat):\n",
    "    m = X_dat.shape[0]\n",
    "    np.random.seed(epoch * n_batches + batch_index)\n",
    "    indices = np.random.randint(m, size=batch_size)\n",
    "    X_batch = X_dat[indices] \n",
    "    y_batch = y_dat[indices]\n",
    "    return X_batch, y_batch\n",
    "\n",
    "with tf.Session() as sess:\n",
    "    init.run()\n",
    "    for epoch in range(n_epochs):\n",
    "        for iteration in range(n_batches):\n",
    "            X_batch, y_batch = fetch_batch(epoch, iteration, batch_size, X_modified, y_modified)\n",
    "            sess.run(training_op, feed_dict={X: X_batch, y: y_batch})\n",
    "        loss_val = loss.eval(feed_dict={X: X_batch, y: y_batch})\n",
    "        print(epoch, \"loss:\", loss_val)\n",
    "        \n",
    "        # every so often, generate some sample output\n",
    "        ixes = X_batch[[0]].tolist()[0]\n",
    "        for i in range(sample_size):\n",
    "            sample_batch = np.array(ixes[-n_steps:]).reshape(1, n_steps)\n",
    "            p = probs.eval(feed_dict={X: sample_batch})\n",
    "            ix = np.random.choice(range(vocab_size), p=p.ravel())\n",
    "            ixes.append(ix)\n",
    "        txt = ''.join(ix_to_char[ix] for ix in ixes[-sample_size:])\n",
    "        print('----\\n %s \\n----' % (txt, ))"
   ]
  },
  {
   "cell_type": "markdown",
   "metadata": {
    "collapsed": true
   },
   "source": [
    "### Problem 5"
   ]
  },
  {
   "cell_type": "markdown",
   "metadata": {},
   "source": [
    "The code below is a copy of the base code above.  Your job is to turn the character-level model into a word-level.  This means that instead of training on sequences of 25 characters, it will train on sequences of 25 words.  Don't worry, this is not difficult.  The structure of the model can stay the same, but now you will have a vocabulary size of thousands of words, instead of a vocabulary size of about 70 characters.\n",
    "\n",
    "You should make the smallest changes you need to make to change the base code into a word-level model.\n",
    "\n",
    "Hint 1: to read a file into an array of words, you may want to look at these links:\n",
    "- https://stackoverflow.com/questions/16922214/reading-a-text-file-and-splitting-it-into-single-words-in-python\n",
    "- https://stackoverflow.com/questions/367155/splitting-a-string-into-words-and-punctuation\n",
    "\n",
    "Hint 2: word-level models use more space; you'll probably need to reduce some of the parameters of the model to get it to run.  Don't worry if your machine still runs out of memory after you greatly reduce the parameters; I will check to see if your code is right."
   ]
  },
  {
   "cell_type": "code",
   "execution_count": null,
   "metadata": {},
   "outputs": [],
   "source": [
    "# create training sequences, and corresponding labels\n",
    "X = []\n",
    "y = []\n",
    "seq_length = 50\n",
    "for i in range(0, len(data)-seq_length-1, 1):\n",
    "    X.append([char_to_ix[ch] for ch in data[i:i+seq_length]])\n",
    "    y.append([char_to_ix[ch] for ch in data[i+1:i+seq_length+1]])\n",
    "\n",
    "# reshape the data; in X_modified, each row is an encoded \n",
    "# sequence of characters\n",
    "X_modified = np.reshape(X, (len(X), seq_length))\n",
    "y_modified = np.reshape(y, (len(y), seq_length))\n",
    "\n",
    "#\n",
    "# graph construction\n",
    "#\n",
    "\n",
    "n_steps = seq_length\n",
    "n_inputs = vocab_size\n",
    "n_outputs = vocab_size\n",
    "n_neurons = 100\n",
    "\n",
    "learning_rate = 0.001\n",
    "\n",
    "tf.reset_default_graph()\n",
    "\n",
    "X = tf.placeholder(tf.int32, [None, n_steps])\n",
    "X_hot = tf.one_hot(X, n_inputs)\n",
    "y = tf.placeholder(tf.int32, [None, n_steps])\n",
    "\n",
    "# alternative: GPU-enabled GRU cell\n",
    "#        tf.contrib.cudnn_rnn.CudnnCompatibleGRUCell(num_units=n_neurons),\n",
    "\n",
    "basic_cell = tf.contrib.rnn.OutputProjectionWrapper(\n",
    "              tf.nn.rnn_cell.BasicRNNCell(num_units=n_neurons),\n",
    "              output_size=n_outputs)\n",
    "logits, states = tf.nn.dynamic_rnn(basic_cell, X_hot, dtype=tf.float32)\n",
    "xentropy = tf.nn.sparse_softmax_cross_entropy_with_logits(labels=y, logits=logits)\n",
    "loss = tf.reduce_mean(xentropy)\n",
    "optimizer = tf.train.AdamOptimizer(learning_rate=learning_rate)\n",
    "training_op = optimizer.minimize(loss)\n",
    "\n",
    "# Get the last character of the first batch, then convert it\n",
    "# to a probability vector.\n",
    "last_char_matrix = tf.slice(logits, [0,n_steps-1,0], [1,1,vocab_size])\n",
    "last_char_vector = tf.reshape(last_char_matrix, [vocab_size])\n",
    "probs = tf.nn.softmax(last_char_vector)\n",
    "\n",
    "init = tf.global_variables_initializer()\n",
    "\n",
    "#\n",
    "# graph execution\n",
    "#\n",
    "\n",
    "n_epochs = 10\n",
    "batch_size = 50     # sequences per batch\n",
    "n_batches = 50     # batches per epoch\n",
    "sample_size = 200   # length of generated text at end of each epoch\n",
    "\n",
    "def fetch_batch(epoch, batch_index, batch_size, X_dat, y_dat):\n",
    "    m = X_dat.shape[0]\n",
    "    np.random.seed(epoch * n_batches + batch_index)\n",
    "    indices = np.random.randint(m, size=batch_size)\n",
    "    X_batch = X_dat[indices] \n",
    "    y_batch = y_dat[indices]\n",
    "    return X_batch, y_batch\n",
    "\n",
    "with tf.Session() as sess:\n",
    "    init.run()\n",
    "    for epoch in range(n_epochs):\n",
    "        for iteration in range(n_batches):\n",
    "            X_batch, y_batch = fetch_batch(epoch, iteration, batch_size, X_modified, y_modified)\n",
    "            sess.run(training_op, feed_dict={X: X_batch, y: y_batch})\n",
    "        loss_val = loss.eval(feed_dict={X: X_batch, y: y_batch})\n",
    "        print(epoch, \"loss:\", loss_val)\n",
    "        \n",
    "        # every so often, generate some sample output\n",
    "        ixes = X_batch[[0]].tolist()[0]\n",
    "        for i in range(sample_size):\n",
    "            sample_batch = np.array(ixes[-n_steps:]).reshape(1, n_steps)\n",
    "            p = probs.eval(feed_dict={X: sample_batch})\n",
    "            ix = np.random.choice(range(vocab_size), p=p.ravel())\n",
    "            ixes.append(ix)\n",
    "        txt = ''.join(ix_to_char[ix] for ix in ixes[-sample_size:])\n",
    "        print('----\\n %s \\n----' % (txt, ))"
   ]
  },
  {
   "cell_type": "markdown",
   "metadata": {
    "collapsed": true
   },
   "source": [
    "### Problem 6"
   ]
  },
  {
   "cell_type": "markdown",
   "metadata": {},
   "source": [
    "The code below is a copy of the base code above.  Your job is to modify the code so that it uses 2 layers of cells rather than just one.  You should modify the base code as little as possible to make this change."
   ]
  },
  {
   "cell_type": "code",
   "execution_count": null,
   "metadata": {},
   "outputs": [],
   "source": [
    "# create training sequences, and corresponding labels\n",
    "X = []\n",
    "y = []\n",
    "seq_length = 50\n",
    "for i in range(0, len(data)-seq_length-1, 1):\n",
    "    X.append([char_to_ix[ch] for ch in data[i:i+seq_length]])\n",
    "    y.append([char_to_ix[ch] for ch in data[i+1:i+seq_length+1]])\n",
    "\n",
    "# reshape the data; in X_modified, each row is an encoded \n",
    "# sequence of characters\n",
    "X_modified = np.reshape(X, (len(X), seq_length))\n",
    "y_modified = np.reshape(y, (len(y), seq_length))\n",
    "\n",
    "#\n",
    "# graph construction\n",
    "#\n",
    "\n",
    "n_steps = seq_length\n",
    "n_inputs = vocab_size\n",
    "n_outputs = vocab_size\n",
    "n_neurons = 100\n",
    "\n",
    "learning_rate = 0.001\n",
    "\n",
    "tf.reset_default_graph()\n",
    "\n",
    "X = tf.placeholder(tf.int32, [None, n_steps])\n",
    "X_hot = tf.one_hot(X, n_inputs)\n",
    "y = tf.placeholder(tf.int32, [None, n_steps])\n",
    "\n",
    "# alternative: GPU-enabled GRU cell\n",
    "#        tf.contrib.cudnn_rnn.CudnnCompatibleGRUCell(num_units=n_neurons),\n",
    "\n",
    "basic_cell = tf.contrib.rnn.OutputProjectionWrapper(\n",
    "              tf.nn.rnn_cell.BasicRNNCell(num_units=n_neurons),\n",
    "              output_size=n_outputs)\n",
    "logits, states = tf.nn.dynamic_rnn(basic_cell, X_hot, dtype=tf.float32)\n",
    "xentropy = tf.nn.sparse_softmax_cross_entropy_with_logits(labels=y, logits=logits)\n",
    "loss = tf.reduce_mean(xentropy)\n",
    "optimizer = tf.train.AdamOptimizer(learning_rate=learning_rate)\n",
    "training_op = optimizer.minimize(loss)\n",
    "\n",
    "# Get the last character of the first batch, then convert it\n",
    "# to a probability vector.\n",
    "last_char_matrix = tf.slice(logits, [0,n_steps-1,0], [1,1,vocab_size])\n",
    "last_char_vector = tf.reshape(last_char_matrix, [vocab_size])\n",
    "probs = tf.nn.softmax(last_char_vector)\n",
    "\n",
    "init = tf.global_variables_initializer()\n",
    "\n",
    "#\n",
    "# graph execution\n",
    "#\n",
    "\n",
    "n_epochs = 10\n",
    "batch_size = 50     # sequences per batch\n",
    "n_batches = 50     # batches per epoch\n",
    "sample_size = 200   # length of generated text at end of each epoch\n",
    "\n",
    "def fetch_batch(epoch, batch_index, batch_size, X_dat, y_dat):\n",
    "    m = X_dat.shape[0]\n",
    "    np.random.seed(epoch * n_batches + batch_index)\n",
    "    indices = np.random.randint(m, size=batch_size)\n",
    "    X_batch = X_dat[indices] \n",
    "    y_batch = y_dat[indices]\n",
    "    return X_batch, y_batch\n",
    "\n",
    "with tf.Session() as sess:\n",
    "    init.run()\n",
    "    for epoch in range(n_epochs):\n",
    "        for iteration in range(n_batches):\n",
    "            X_batch, y_batch = fetch_batch(epoch, iteration, batch_size, X_modified, y_modified)\n",
    "            sess.run(training_op, feed_dict={X: X_batch, y: y_batch})\n",
    "        loss_val = loss.eval(feed_dict={X: X_batch, y: y_batch})\n",
    "        print(epoch, \"loss:\", loss_val)\n",
    "        \n",
    "        # every so often, generate some sample output\n",
    "        ixes = X_batch[[0]].tolist()[0]\n",
    "        for i in range(sample_size):\n",
    "            sample_batch = np.array(ixes[-n_steps:]).reshape(1, n_steps)\n",
    "            p = probs.eval(feed_dict={X: sample_batch})\n",
    "            ix = np.random.choice(range(vocab_size), p=p.ravel())\n",
    "            ixes.append(ix)\n",
    "        txt = ''.join(ix_to_char[ix] for ix in ixes[-sample_size:])\n",
    "        print('----\\n %s \\n----' % (txt, ))"
   ]
  },
  {
   "cell_type": "code",
   "execution_count": null,
   "metadata": {},
   "outputs": [],
   "source": []
  }
 ],
 "metadata": {
  "kernelspec": {
   "display_name": "Python 3",
   "language": "python",
   "name": "python3"
  },
  "language_info": {
   "codemirror_mode": {
    "name": "ipython",
    "version": 3
   },
   "file_extension": ".py",
   "mimetype": "text/x-python",
   "name": "python",
   "nbconvert_exporter": "python",
   "pygments_lexer": "ipython3",
   "version": "3.6.7"
  }
 },
 "nbformat": 4,
 "nbformat_minor": 2
}
